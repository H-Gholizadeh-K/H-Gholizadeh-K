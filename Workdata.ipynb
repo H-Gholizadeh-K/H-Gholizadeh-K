{
  "nbformat": 4,
  "nbformat_minor": 0,
  "metadata": {
    "colab": {
      "provenance": [],
      "gpuType": "T4",
      "mount_file_id": "1ltQY2OtckUTm7vqHp8wLr-4JwfK6TTlA",
      "authorship_tag": "ABX9TyPhUaEEVCAbDq34w5OSfvUt",
      "include_colab_link": true
    },
    "kernelspec": {
      "name": "python3",
      "display_name": "Python 3"
    },
    "language_info": {
      "name": "python"
    },
    "accelerator": "GPU"
  },
  "cells": [
    {
      "cell_type": "markdown",
      "metadata": {
        "id": "view-in-github",
        "colab_type": "text"
      },
      "source": [
        "<a href=\"https://colab.research.google.com/github/H-Gholizadeh-K/H-Gholizadeh-K/blob/main/Workdata.ipynb\" target=\"_parent\"><img src=\"https://colab.research.google.com/assets/colab-badge.svg\" alt=\"Open In Colab\"/></a>"
      ]
    },
    {
      "cell_type": "code",
      "execution_count": 3,
      "metadata": {
        "id": "XRdVFSkGeiRR"
      },
      "outputs": [],
      "source": [
        "import pandas as pd\n",
        "import numpy as np\n",
        "import matplotlib.pyplot as plt"
      ]
    },
    {
      "cell_type": "code",
      "source": [
        "data=pd.read_excel('./WData/14040320 - Report of works.xlsx')"
      ],
      "metadata": {
        "id": "e7Q5F_ZBmtcS"
      },
      "execution_count": null,
      "outputs": []
    }
  ]
}